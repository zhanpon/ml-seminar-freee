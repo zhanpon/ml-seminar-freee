{
 "cells": [
  {
   "cell_type": "code",
   "execution_count": 1,
   "metadata": {
    "collapsed": true,
    "deletable": true,
    "editable": true
   },
   "outputs": [],
   "source": [
    "%matplotlib inline\n",
    "import numpy as np\n",
    "import matplotlib.pyplot as plt\n",
    "\n",
    "import torch\n",
    "import torch.nn as nn\n",
    "import torchvision.datasets as dsets\n",
    "import torchvision.transforms as transforms\n",
    "from torch.autograd import Variable"
   ]
  },
  {
   "cell_type": "code",
   "execution_count": 2,
   "metadata": {
    "collapsed": true,
    "deletable": true,
    "editable": true
   },
   "outputs": [],
   "source": [
    "# Hyper Parameters \n",
    "input_size = 784\n",
    "hidden_size = 200\n",
    "num_epochs = 10\n",
    "batch_size = 100\n",
    "learning_rate = 0.0001"
   ]
  },
  {
   "cell_type": "code",
   "execution_count": 3,
   "metadata": {
    "collapsed": false,
    "deletable": true,
    "editable": true
   },
   "outputs": [
    {
     "name": "stdout",
     "output_type": "stream",
     "text": [
      "Files already downloaded\n"
     ]
    }
   ],
   "source": [
    "# MNIST Dataset \n",
    "train_dataset = dsets.MNIST(root='../data', \n",
    "                            train=True, \n",
    "                            transform=transforms.ToTensor(),  \n",
    "                            download=True)\n",
    "\n",
    "test_dataset = dsets.MNIST(root='../data', \n",
    "                           train=False, \n",
    "                           transform=transforms.ToTensor())"
   ]
  },
  {
   "cell_type": "code",
   "execution_count": 4,
   "metadata": {
    "collapsed": true,
    "deletable": true,
    "editable": true
   },
   "outputs": [],
   "source": [
    "# Data Loader (Input Pipeline)\n",
    "train_loader = torch.utils.data.DataLoader(dataset=train_dataset, \n",
    "                                           batch_size=batch_size, \n",
    "                                           shuffle=True)\n",
    "\n",
    "test_loader = torch.utils.data.DataLoader(dataset=test_dataset, \n",
    "                                          batch_size=batch_size, \n",
    "                                          shuffle=False)"
   ]
  },
  {
   "cell_type": "code",
   "execution_count": 5,
   "metadata": {
    "collapsed": true,
    "deletable": true,
    "editable": true
   },
   "outputs": [],
   "source": [
    "class Net(nn.Module):\n",
    "    def __init__(self, input_size, hidden_size):\n",
    "        super(Net, self).__init__()\n",
    "        self.fc1 = nn.Linear(input_size, hidden_size) \n",
    "        self.relu = nn.ReLU()\n",
    "        self.fc2 = nn.Linear(hidden_size, input_size)  \n",
    "    \n",
    "    def forward(self, x):\n",
    "        out = self.fc1(x)\n",
    "        out = self.relu(out)\n",
    "        out = self.fc2(out)\n",
    "        return out\n",
    "\n",
    "net = Net(input_size, hidden_size)"
   ]
  },
  {
   "cell_type": "code",
   "execution_count": 6,
   "metadata": {
    "collapsed": true,
    "deletable": true,
    "editable": true
   },
   "outputs": [],
   "source": [
    "# Loss and Optimizer\n",
    "criterion = nn.MSELoss()\n",
    "optimizer = torch.optim.Adam(net.parameters(), lr=learning_rate)  "
   ]
  },
  {
   "cell_type": "code",
   "execution_count": 7,
   "metadata": {
    "collapsed": false,
    "deletable": true,
    "editable": true
   },
   "outputs": [
    {
     "name": "stdout",
     "output_type": "stream",
     "text": [
      "Epoch [1/10], Step [100/600], Loss: 0.0562\n",
      "Epoch [1/10], Step [200/600], Loss: 0.0443\n",
      "Epoch [1/10], Step [300/600], Loss: 0.0328\n",
      "Epoch [1/10], Step [400/600], Loss: 0.0299\n",
      "Epoch [1/10], Step [500/600], Loss: 0.0229\n",
      "Epoch [1/10], Step [600/600], Loss: 0.0214\n",
      "Epoch [2/10], Step [100/600], Loss: 0.0187\n",
      "Epoch [2/10], Step [200/600], Loss: 0.0177\n",
      "Epoch [2/10], Step [300/600], Loss: 0.0154\n",
      "Epoch [2/10], Step [400/600], Loss: 0.0151\n",
      "Epoch [2/10], Step [500/600], Loss: 0.0136\n",
      "Epoch [2/10], Step [600/600], Loss: 0.0126\n",
      "Epoch [3/10], Step [100/600], Loss: 0.0123\n",
      "Epoch [3/10], Step [200/600], Loss: 0.0117\n",
      "Epoch [3/10], Step [300/600], Loss: 0.0104\n",
      "Epoch [3/10], Step [400/600], Loss: 0.0110\n",
      "Epoch [3/10], Step [500/600], Loss: 0.0094\n",
      "Epoch [3/10], Step [600/600], Loss: 0.0099\n",
      "Epoch [4/10], Step [100/600], Loss: 0.0093\n",
      "Epoch [4/10], Step [200/600], Loss: 0.0096\n",
      "Epoch [4/10], Step [300/600], Loss: 0.0084\n",
      "Epoch [4/10], Step [400/600], Loss: 0.0082\n",
      "Epoch [4/10], Step [500/600], Loss: 0.0082\n",
      "Epoch [4/10], Step [600/600], Loss: 0.0077\n",
      "Epoch [5/10], Step [100/600], Loss: 0.0076\n",
      "Epoch [5/10], Step [200/600], Loss: 0.0079\n",
      "Epoch [5/10], Step [300/600], Loss: 0.0070\n",
      "Epoch [5/10], Step [400/600], Loss: 0.0069\n",
      "Epoch [5/10], Step [500/600], Loss: 0.0070\n",
      "Epoch [5/10], Step [600/600], Loss: 0.0063\n",
      "Epoch [6/10], Step [100/600], Loss: 0.0066\n",
      "Epoch [6/10], Step [200/600], Loss: 0.0061\n",
      "Epoch [6/10], Step [300/600], Loss: 0.0066\n",
      "Epoch [6/10], Step [400/600], Loss: 0.0063\n",
      "Epoch [6/10], Step [500/600], Loss: 0.0059\n",
      "Epoch [6/10], Step [600/600], Loss: 0.0064\n",
      "Epoch [7/10], Step [100/600], Loss: 0.0060\n",
      "Epoch [7/10], Step [200/600], Loss: 0.0057\n",
      "Epoch [7/10], Step [300/600], Loss: 0.0057\n",
      "Epoch [7/10], Step [400/600], Loss: 0.0056\n",
      "Epoch [7/10], Step [500/600], Loss: 0.0053\n",
      "Epoch [7/10], Step [600/600], Loss: 0.0054\n",
      "Epoch [8/10], Step [100/600], Loss: 0.0054\n",
      "Epoch [8/10], Step [200/600], Loss: 0.0055\n",
      "Epoch [8/10], Step [300/600], Loss: 0.0051\n",
      "Epoch [8/10], Step [400/600], Loss: 0.0050\n",
      "Epoch [8/10], Step [500/600], Loss: 0.0055\n",
      "Epoch [8/10], Step [600/600], Loss: 0.0051\n",
      "Epoch [9/10], Step [100/600], Loss: 0.0048\n",
      "Epoch [9/10], Step [200/600], Loss: 0.0049\n",
      "Epoch [9/10], Step [300/600], Loss: 0.0051\n",
      "Epoch [9/10], Step [400/600], Loss: 0.0047\n",
      "Epoch [9/10], Step [500/600], Loss: 0.0046\n",
      "Epoch [9/10], Step [600/600], Loss: 0.0044\n",
      "Epoch [10/10], Step [100/600], Loss: 0.0046\n",
      "Epoch [10/10], Step [200/600], Loss: 0.0044\n",
      "Epoch [10/10], Step [300/600], Loss: 0.0043\n",
      "Epoch [10/10], Step [400/600], Loss: 0.0042\n",
      "Epoch [10/10], Step [500/600], Loss: 0.0045\n",
      "Epoch [10/10], Step [600/600], Loss: 0.0044\n"
     ]
    }
   ],
   "source": [
    "# Train the Model\n",
    "for epoch in range(num_epochs):\n",
    "    for i, (images, labels) in enumerate(train_loader):  \n",
    "        # Convert torch tensor to Variable\n",
    "        images = Variable(images.view(-1, 28*28))\n",
    "        \n",
    "        # Forward + Backward + Optimize\n",
    "        optimizer.zero_grad()  # zero the gradient buffer\n",
    "        outputs = net(images)\n",
    "        loss = criterion(outputs, images)\n",
    "        loss.backward()\n",
    "        optimizer.step()\n",
    "        \n",
    "        if (i+1) % 100 == 0:\n",
    "            print ('Epoch [%d/%d], Step [%d/%d], Loss: %.4f' \n",
    "                   %(epoch+1, num_epochs, i+1, len(train_dataset)//batch_size, loss.data[0]))"
   ]
  },
  {
   "cell_type": "code",
   "execution_count": 8,
   "metadata": {
    "collapsed": false,
    "deletable": true,
    "editable": true
   },
   "outputs": [],
   "source": [
    "a, _ = test_dataset[110]"
   ]
  },
  {
   "cell_type": "code",
   "execution_count": 9,
   "metadata": {
    "collapsed": false,
    "deletable": true,
    "editable": true
   },
   "outputs": [
    {
     "data": {
      "text/plain": [
       "<matplotlib.image.AxesImage at 0x1183f13c8>"
      ]
     },
     "execution_count": 9,
     "metadata": {},
     "output_type": "execute_result"
    },
    {
     "data": {
      "image/png": "[encoded data removed]",
      "text/plain": [
       "<matplotlib.figure.Figure at 0x113f08780>"
      ]
     },
     "metadata": {},
     "output_type": "display_data"
    }
   ],
   "source": [
    "plt.imshow(a.numpy().reshape(28, 28), cmap='gray')"
   ]
  },
  {
   "cell_type": "code",
   "execution_count": 10,
   "metadata": {
    "collapsed": false,
    "deletable": true,
    "editable": true
   },
   "outputs": [],
   "source": [
    "a1 = net(Variable(a.view(-1, 28*28)))"
   ]
  },
  {
   "cell_type": "code",
   "execution_count": 11,
   "metadata": {
    "collapsed": false,
    "deletable": true,
    "editable": true
   },
   "outputs": [
    {
     "data": {
      "image/png": "[encoded data removed]",
      "text/plain": [
       "<matplotlib.figure.Figure at 0x1183b18d0>"
      ]
     },
     "metadata": {},
     "output_type": "display_data"
    }
   ],
   "source": [
    "plt.imshow(a1.data.numpy().reshape(28, 28), cmap='gray');"
   ]
  }
 ],
 "metadata": {
  "kernelspec": {
   "display_name": "Python3 (pytorch)",
   "language": "python",
   "name": "myenv"
  },
  "language_info": {
   "codemirror_mode": {
    "name": "ipython",
    "version": 3
   },
   "file_extension": ".py",
   "mimetype": "text/x-python",
   "name": "python",
   "nbconvert_exporter": "python",
   "pygments_lexer": "ipython3",
   "version": "3.6.0"
  }
 },
 "nbformat": 4,
 "nbformat_minor": 2
}
